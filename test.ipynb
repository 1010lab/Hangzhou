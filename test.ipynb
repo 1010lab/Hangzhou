{
 "cells": [
  {
   "cell_type": "code",
   "execution_count": 12,
   "metadata": {},
   "outputs": [
    {
     "name": "stdout",
     "output_type": "stream",
     "text": [
      "CALL apoc.load.csv(\"file:///1\" ,{nullValues:['na'],{header: true},\n",
      "                mapping:{\n",
      "                            structureList:{array:true,arraySep:','},\n",
      "                            virtualTreeList:{array:true,arraySep:','},\n",
      "                            sn_type: {type:'int'},\n",
      "                            labelColList:{array:true,arraySep:','}\n",
      "                        }\n",
      "                        })\n",
      "                CREATE (n:2 {\n",
      "                    nodeId:line.id,nodeName:line.node_name,\n",
      "                    snType:line.sn_type,type:line.type ,\n",
      "                    virtualTreeList:line.virtualTreeList,\n",
      "                    structureList:line.structureList,\n",
      "                    lastSiteNode:line.lastSiteNode,\n",
      "                    labelColList:line.labelColList,\n",
      "                    remark:\"备注信息\",\n",
      "                    fileType:line.fileType,\n",
      "                    siteID:\"3\"\n",
      "                })\n",
      "                return n\n"
     ]
    }
   ],
   "source": [
    "file_name = 1\n",
    "label =2 \n",
    "siteID =3 \n",
    "body_cypher = f'''CALL apoc.load.csv(\"file:///{file_name}\" ,{{nullValues:['na'],{{header: true}},\n",
    "                mapping:{{\n",
    "                            structureList:{{array:true,arraySep:','}},\n",
    "                            virtualTreeList:{{array:true,arraySep:','}},\n",
    "                            sn_type: {{type:'int'}},\n",
    "                            labelColList:{{array:true,arraySep:','}}\n",
    "                        }}\n",
    "                        }})\n",
    "                CREATE (n:{label} {{\n",
    "                    nodeId:line.id,nodeName:line.node_name,\n",
    "                    snType:line.sn_type,type:line.type ,\n",
    "                    virtualTreeList:line.virtualTreeList,\n",
    "                    structureList:line.structureList,\n",
    "                    lastSiteNode:line.lastSiteNode,\n",
    "                    labelColList:line.labelColList,\n",
    "                    remark:\"备注信息\",\n",
    "                    fileType:line.fileType,\n",
    "                    siteID:\"{siteID}\"\n",
    "                }})\n",
    "                return n'''\n",
    "print(body_cypher)"
   ]
  },
  {
   "cell_type": "code",
   "execution_count": null,
   "metadata": {},
   "outputs": [
    {
     "data": {
      "text/plain": [
       "dict_items([('id1,id2', '1234'), ('id2.id5', 'sdasfa')])"
      ]
     },
     "execution_count": 15,
     "metadata": {},
     "output_type": "execute_result"
    }
   ],
   "source": [
    "d1[\"id1,id2\"]=\"1234\"\n",
    "d1.items()"
   ]
  },
  {
   "cell_type": "code",
   "execution_count": 10,
   "metadata": {},
   "outputs": [
    {
     "name": "stdout",
     "output_type": "stream",
     "text": [
      "1\n",
      "4\n"
     ]
    }
   ],
   "source": [
    "from neo4j import GraphDatabase\n",
    "URI = \"neo4j://localhost\"\n",
    "AUTH = (\"neo4j\", \"123\")\n",
    "\n",
    "with GraphDatabase.driver(URI, auth=AUTH) as driver:\n",
    "   driver.verify_connectivity()\n",
    "siteID = \"64e309dff53c3715653685cb/64e30a69f53c3715653685ec\"\n",
    "c = f'''match (m) return m'''\n",
    "records,summary,keys = driver.execute_query(\n",
    "            c,\n",
    "            database_=\"neo4j\",\n",
    "      )\n",
    "print(summary.result_available_after)\n",
    "print(summary.result_consumed_after)     "
   ]
  },
  {
   "cell_type": "code",
   "execution_count": 10,
   "metadata": {},
   "outputs": [
    {
     "data": {
      "text/plain": [
       "[2, 3, 4, 5, 6, 7]"
      ]
     },
     "execution_count": 10,
     "metadata": {},
     "output_type": "execute_result"
    }
   ],
   "source": [
    "s = [1,2,3,4,5,6]\n",
    "l = s \n",
    "for i in range(len(l)):\n",
    "    l[i] += 1\n",
    "s"
   ]
  },
  {
   "cell_type": "code",
   "execution_count": null,
   "metadata": {},
   "outputs": [],
   "source": []
  }
 ],
 "metadata": {
  "kernelspec": {
   "display_name": "Python 3.8.3 ('base')",
   "language": "python",
   "name": "python3"
  },
  "language_info": {
   "codemirror_mode": {
    "name": "ipython",
    "version": 3
   },
   "file_extension": ".py",
   "mimetype": "text/x-python",
   "name": "python",
   "nbconvert_exporter": "python",
   "pygments_lexer": "ipython3",
   "version": "3.8.3"
  },
  "orig_nbformat": 4,
  "vscode": {
   "interpreter": {
    "hash": "fd9f33d25772096a7c8a99bdfd5f38f71d106687f6640457e226f0b250d6e2cd"
   }
  }
 },
 "nbformat": 4,
 "nbformat_minor": 2
}
