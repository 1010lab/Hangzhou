{
 "cells": [
  {
   "cell_type": "code",
   "execution_count": 1,
   "metadata": {},
   "outputs": [
    {
     "data": {
      "text/plain": [
       "['id1,id2', 'id2.id5']"
      ]
     },
     "execution_count": 1,
     "metadata": {},
     "output_type": "execute_result"
    }
   ],
   "source": [
    "d1 = {\"id1,id2\":\"123sda\",\"id2,id5\":\"sdasfa\"}\n",
    "list(d1.keys())"
   ]
  },
  {
   "cell_type": "code",
   "execution_count": 15,
   "metadata": {},
   "outputs": [
    {
     "data": {
      "text/plain": [
       "dict_items([('id1,id2', '1234'), ('id2.id5', 'sdasfa')])"
      ]
     },
     "execution_count": 15,
     "metadata": {},
     "output_type": "execute_result"
    }
   ],
   "source": [
    "d1[\"id1,id2\"]=\"1234\"\n",
    "d1.items()"
   ]
  },
  {
   "cell_type": "code",
   "execution_count": 13,
   "metadata": {},
   "outputs": [
    {
     "name": "stdout",
     "output_type": "stream",
     "text": [
      "----NEO4J_data_import\\\n",
      "    |----data\\\n",
      "    |    |----631a98871e155c0c36c30322\\\n",
      "    |    |    |----Body_data.json\n",
      "    |    |    |----Instance_data.json\n",
      "    |    |    |----nodes\\\n",
      "    |    |    |    |----Body.csv\n",
      "    |    |    |    |----Instance.csv\n",
      "    |    |----637dde4778d2a708fc7ba545\\\n",
      "    |    |    |----Body_data.json\n",
      "    |    |    |----Instance_data.json\n",
      "    |    |    |----nodes\\\n",
      "    |    |    |    |----Body.csv\n",
      "    |    |    |    |----Instance.csv\n",
      "    |    |    |----relations\\\n",
      "    |    |    |    |----Body.csv\n",
      "    |    |    |    |----Instance.csv\n",
      "    |    |----64c7174871b89d19c2491700\\\n",
      "    |    |    |----Body_data.json\n",
      "    |    |    |----Instance_data.json\n",
      "    |    |    |----nodes\\\n",
      "    |    |    |    |----Body.csv\n",
      "    |    |    |    |----Instance.csv\n",
      "    |    |    |----relations\\\n",
      "    |    |    |    |----Body.csv\n",
      "    |    |    |    |----Instance.csv\n",
      "    |    |----64e309dff53c3715653685cb\\\n",
      "    |    |    |----Body_data.json\n",
      "    |    |    |----Instance_data.json\n",
      "    |    |    |----nodes\\\n",
      "    |    |    |    |----Body.csv\n",
      "    |    |    |    |----Instance.csv\n",
      "    |    |    |----relations\\\n",
      "    |    |    |    |----Body.csv\n",
      "    |    |    |    |----Instance.csv\n",
      "    |    |----64e5da64e62cfa18c183ed20\\\n",
      "    |    |    |----Body_data.json\n",
      "    |    |    |----Instance_data.json\n",
      "    |    |    |----nodes\\\n",
      "    |    |    |    |----Body.csv\n",
      "    |    |    |    |----Instance.csv\n",
      "    |    |    |----relations\\\n",
      "    |    |    |    |----Body.csv\n",
      "    |    |    |    |----Instance.csv\n",
      "    |    |----64f732ddbc367867c77b96b5\\\n",
      "    |    |    |----Body_data.json\n",
      "    |    |    |----Instance_data.json\n",
      "    |    |    |----nodes\\\n",
      "    |    |    |    |----Body.csv\n",
      "    |    |    |    |----Instance.csv\n",
      "    |    |    |----relations\\\n",
      "    |    |    |    |----Body.csv\n",
      "    |    |    |    |----Instance.csv\n",
      "    |----get_node_relation.py\n",
      "    |----load.py\n",
      "    |----main.py\n",
      "    |----neo4j_data\\\n",
      "    |    |----13\\\n",
      "    |    |----631a98871e155c0c36c30322\\\n",
      "    |    |    |----BODY.csv\n",
      "    |    |    |----INSTANCE.csv\n",
      "    |    |    |----relation_b2i.csv\n",
      "    |    |----637dde4778d2a708fc7ba545\\\n",
      "    |    |    |----BODY.csv\n",
      "    |    |    |----body_relation.csv\n",
      "    |    |    |----INSTANCE.csv\n",
      "    |    |    |----instance_relation.csv\n",
      "    |    |    |----relation_b2i.csv\n",
      "    |    |----64c7174871b89d19c2491700\\\n",
      "    |    |    |----BODY.csv\n",
      "    |    |    |----body_relation.csv\n",
      "    |    |    |----INSTANCE.csv\n",
      "    |    |    |----instance_relation.csv\n",
      "    |    |    |----relation_b2i.csv\n",
      "    |    |----64e309dff53c3715653685cb\\\n",
      "    |    |    |----BODY.csv\n",
      "    |    |    |----body_relation.csv\n",
      "    |    |    |----INSTANCE.csv\n",
      "    |    |    |----instance_relation.csv\n",
      "    |    |    |----relation_b2i.csv\n",
      "    |    |----64e5da64e62cfa18c183ed20\\\n",
      "    |    |    |----BODY.csv\n",
      "    |    |    |----body_relation.csv\n",
      "    |    |    |----INSTANCE.csv\n",
      "    |    |    |----instance_relation.csv\n",
      "    |    |    |----relation_b2i.csv\n",
      "    |    |----64f732ddbc367867c77b96b5\\\n",
      "    |    |    |----BODY.csv\n",
      "    |    |    |----body_relation.csv\n",
      "    |    |    |----INSTANCE.csv\n",
      "    |    |    |----instance_relation.csv\n",
      "    |    |    |----relation_b2i.csv\n",
      "    |----process.py\n",
      "    |----tree.py\n",
      "    |----__init__.py\n",
      "    |----__pycache__\\\n",
      "    |    |----get_node_relation.cpython-38.pyc\n",
      "    |    |----load.cpython-38.pyc\n",
      "    |    |----main.cpython-38.pyc\n",
      "    |    |----process.cpython-38.pyc\n",
      "    |    |----tree.cpython-38.pyc\n",
      "    |    |----__init__.cpython-38.pyc\n",
      "\n"
     ]
    }
   ],
   "source": [
    "from pathlib import Path\n",
    "\n",
    "tree_str = ''\n",
    "def generate_tree(pathname, n=0):\n",
    "    global tree_str\n",
    "    if pathname.is_file():\n",
    "        tree_str += '    |' * n + '-' * 4 + pathname.name + '\\n'\n",
    "    elif pathname.is_dir():\n",
    "        tree_str += '    |' * n + '-' * 4 + \\\n",
    "            str(pathname.relative_to(pathname.parent)) + '\\\\' + '\\n'\n",
    "        for cp in pathname.iterdir():\n",
    "            generate_tree(cp, n + 1)\n",
    "\n",
    "if __name__ == '__main__':\n",
    "    path = r'C:\\Users\\Leemonlin\\Desktop\\Hangzhou\\NEO4J_data_import'\n",
    "    generate_tree(Path(path), 0)\n",
    "    print(tree_str)"
   ]
  }
 ],
 "metadata": {
  "kernelspec": {
   "display_name": "Python 3.8.3 ('base')",
   "language": "python",
   "name": "python3"
  },
  "language_info": {
   "codemirror_mode": {
    "name": "ipython",
    "version": 3
   },
   "file_extension": ".py",
   "mimetype": "text/x-python",
   "name": "python",
   "nbconvert_exporter": "python",
   "pygments_lexer": "ipython3",
   "version": "3.8.3"
  },
  "orig_nbformat": 4,
  "vscode": {
   "interpreter": {
    "hash": "fd9f33d25772096a7c8a99bdfd5f38f71d106687f6640457e226f0b250d6e2cd"
   }
  }
 },
 "nbformat": 4,
 "nbformat_minor": 2
}
